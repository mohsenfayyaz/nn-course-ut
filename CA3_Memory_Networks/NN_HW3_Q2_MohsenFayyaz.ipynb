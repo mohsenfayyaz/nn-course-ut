{
 "cells": [
  {
   "cell_type": "code",
   "execution_count": 2,
   "metadata": {},
   "outputs": [],
   "source": [
    "# ! nvidia-smi\n",
    "import tensorflow as tf\n",
    "import matplotlib.pyplot as plt\n",
    "import numpy as np\n",
    "import logging\n",
    "from sklearn.metrics import classification_report, confusion_matrix\n",
    "from time import time\n",
    "import seaborn as sns\n",
    "import pandas as pd\n",
    "from sklearn.model_selection import train_test_split\n",
    "from PIL import Image\n",
    "import random\n",
    "\n",
    "\n",
    "tf.autograph.set_verbosity(0, False)\n",
    "logging.getLogger(\"tensorflow\").setLevel(logging.ERROR)"
   ]
  },
  {
   "cell_type": "code",
   "execution_count": 3,
   "metadata": {},
   "outputs": [],
   "source": [
    "class ModifiedHebbTrainer:\n",
    "    def __init__(self, input_size: int, output_size: int, modified=False):\n",
    "        self.weights = np.zeros((input_size, output_size))\n",
    "        self.modified = modified\n",
    "\n",
    "    def train(self, inputs, outputs):\n",
    "        for i, o in zip(inputs, outputs):\n",
    "            i = i.reshape(1, -1)\n",
    "            o = o.reshape(1, -1)\n",
    "            self.weights += i.T @ o\n",
    "        # Modification\n",
    "        if self.modified:\n",
    "            np.fill_diagonal(self.weights, 5)\n",
    "    \n",
    "    def predict(self, i):\n",
    "        i = i.reshape(1, -1)\n",
    "        pred = (i @ self.weights).reshape(-1)\n",
    "        pred[pred >= 0] = 1\n",
    "        pred[pred < 0] = -1\n",
    "        return pred"
   ]
  },
  {
   "cell_type": "code",
   "execution_count": null,
   "metadata": {},
   "outputs": [],
   "source": []
  }
 ],
 "metadata": {
  "kernelspec": {
   "display_name": "Python 3",
   "language": "python",
   "name": "python3"
  },
  "language_info": {
   "codemirror_mode": {
    "name": "ipython",
    "version": 3
   },
   "file_extension": ".py",
   "mimetype": "text/x-python",
   "name": "python",
   "nbconvert_exporter": "python",
   "pygments_lexer": "ipython3",
   "version": "3.7.3"
  }
 },
 "nbformat": 4,
 "nbformat_minor": 2
}
