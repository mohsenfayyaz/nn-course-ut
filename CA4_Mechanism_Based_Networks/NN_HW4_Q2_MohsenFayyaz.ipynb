{
 "cells": [
  {
   "cell_type": "code",
   "execution_count": 1,
   "metadata": {
    "pycharm": {
     "is_executing": false
    }
   },
   "outputs": [
    {
     "name": "stderr",
     "output_type": "stream",
     "text": [
      "C:\\Users\\Mohsen\\Anaconda3\\lib\\site-packages\\statsmodels\\tools\\_testing.py:19: FutureWarning: pandas.util.testing is deprecated. Use the functions in the public API at pandas.testing instead.\n",
      "  import pandas.util.testing as tm\n"
     ]
    }
   ],
   "source": [
    "from tensorflow.keras.datasets import fashion_mnist\n",
    "import numpy as np\n",
    "import matplotlib.pyplot as plt\n",
    "from tqdm.auto import tqdm\n",
    "import seaborn as sns\n",
    "import pandas as pd"
   ]
  },
  {
   "cell_type": "code",
   "execution_count": 16,
   "metadata": {},
   "outputs": [
    {
     "name": "stdout",
     "output_type": "stream",
     "text": [
      "[ 1.200  1.100  1.000  0.900  0.950  1.150]\n",
      "[ 0.435  0.320  0.205  0.090  0.148  0.377]\n",
      "[ 0.264  0.132  0.000  0.000  0.000  0.198]\n",
      "[ 0.215  0.062  0.000  0.000  0.000  0.139]\n",
      "[ 0.184  0.010  0.000  0.000  0.000  0.097]\n",
      "[ 0.168  0.000  0.000  0.000  0.000  0.068]\n",
      "[ 0.158  0.000  0.000  0.000  0.000  0.043]\n",
      "[ 0.152  0.000  0.000  0.000  0.000  0.019]\n",
      "[ 0.149  0.000  0.000  0.000  0.000  0.000]\n"
     ]
    },
    {
     "data": {
      "text/plain": [
       "(0, 1.2)"
      ]
     },
     "execution_count": 16,
     "metadata": {},
     "output_type": "execute_result"
    }
   ],
   "source": [
    "class MaxNet:\n",
    "    def __init__(self, epsilon=0.15):\n",
    "        self.epsilon = epsilon\n",
    "    \n",
    "    def f(self, x):\n",
    "        return max(0, x)\n",
    "    \n",
    "    def max(self, x):\n",
    "        a = np.array(x)\n",
    "        print(a)\n",
    "        while (a > 0).sum() > 1:\n",
    "            a_old = a.copy()\n",
    "            for i in range(len(a)):\n",
    "                a[i] = self.f(a_old[i] - self.epsilon * np.sum(np.delete(a_old, i)))\n",
    "            print(a)\n",
    "        return np.argmax(a), x[np.argmax(a)]\n",
    "        \n",
    "maxnet = MaxNet(epsilon=0.15)\n",
    "np.set_printoptions(formatter={'float': '{: 0.3f}'.format})\n",
    "maxnet.max(x=[1.2, 1.1, 1, 0.9, 0.95, 1.15])"
   ]
  },
  {
   "cell_type": "code",
   "execution_count": null,
   "metadata": {},
   "outputs": [],
   "source": []
  }
 ],
 "metadata": {
  "kernelspec": {
   "display_name": "Python 3",
   "language": "python",
   "name": "python3"
  },
  "language_info": {
   "codemirror_mode": {
    "name": "ipython",
    "version": 3
   },
   "file_extension": ".py",
   "mimetype": "text/x-python",
   "name": "python",
   "nbconvert_exporter": "python",
   "pygments_lexer": "ipython3",
   "version": "3.7.3"
  }
 },
 "nbformat": 4,
 "nbformat_minor": 1
}
